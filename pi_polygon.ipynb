{
 "cells": [
  {
   "cell_type": "code",
   "execution_count": 53,
   "id": "f0b7babd",
   "metadata": {},
   "outputs": [],
   "source": [
    "import math"
   ]
  },
  {
   "cell_type": "code",
   "execution_count": 58,
   "id": "b72e6ca5",
   "metadata": {},
   "outputs": [
    {
     "name": "stdout",
     "output_type": "stream",
     "text": [
      "Input the number of n-polygon: 100000000\n"
     ]
    }
   ],
   "source": [
    "n = int(input(\"Input the number of n-polygon: \"))"
   ]
  },
  {
   "cell_type": "code",
   "execution_count": 59,
   "id": "322125dd",
   "metadata": {},
   "outputs": [
    {
     "name": "stdout",
     "output_type": "stream",
     "text": [
      "pi is between 3.1415926535897944 and 3.1415926535897922\n"
     ]
    }
   ],
   "source": [
    "#poly\n",
    "x1 = 2*(math.sin(((2*math.pi)/n)/2))\n",
    "x2 = 2*(math.tan(((2*math.pi)/n)/2))\n",
    "\n",
    "#pi calculation\n",
    "pi1 = (n*x1)/2\n",
    "pi2 = (n*x2)/2\n",
    "\n",
    "print(f\"pi is between {pi2} and {pi1}\")"
   ]
  }
 ],
 "metadata": {
  "kernelspec": {
   "display_name": "Python 3",
   "language": "python",
   "name": "python3"
  },
  "language_info": {
   "codemirror_mode": {
    "name": "ipython",
    "version": 3
   },
   "file_extension": ".py",
   "mimetype": "text/x-python",
   "name": "python",
   "nbconvert_exporter": "python",
   "pygments_lexer": "ipython3",
   "version": "3.8.8"
  }
 },
 "nbformat": 4,
 "nbformat_minor": 5
}
